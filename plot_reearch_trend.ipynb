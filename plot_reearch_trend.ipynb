{
 "cells": [
  {
   "cell_type": "code",
   "execution_count": null,
   "metadata": {},
   "outputs": [],
   "source": [
    "import matplotlib.pyplot as plt\n",
    "import numpy as np\n",
    "import pandas as pd\n",
    "\n",
    "# 데이터 생성\n",
    "data = {\n",
    "    \"Publication Year\": [2007, 2008, 2009, 2010, 2011, 2012, 2013, 2014, 2015, 2016, 2017, 2018, 2019],\n",
    "    \"Monographs\": [1, 2, 2, 0, 2, 1, 2, 7, 6, 2, 1, 2, 6],\n",
    "    \"Research Reports\": [1, 0, 0, 1, 2, 1, 1, 1, 0, 0, 0, 0, 0],\n",
    "    \"Academic Articles\": [0, 2, 3, 11, 5, 6, 10, 7, 7, 12, 10, 4, 10],\n",
    "    \"Dissertations\": [2, 6, 1, 5, 1, 4, 4, 11, 17, 11, 11, 11, 9],\n",
    "}\n",
    "\n",
    "df = pd.DataFrame(data)\n",
    "\n",
    "# 그래프 생성\n",
    "plt.figure(figsize=(12, 6))\n",
    "bar_width = 0.2\n",
    "x_indexes = np.arange(len(df[\"Publication Year\"]))\n",
    "\n",
    "plt.bar(x_indexes - 1.5*bar_width, df[\"Monographs\"], width=bar_width, label=\"Monographs\", color='blue')\n",
    "plt.bar(x_indexes - 0.5*bar_width, df[\"Research Reports\"], width=bar_width, label=\"Research Reports\", color='red')\n",
    "plt.bar(x_indexes + 0.5*bar_width, df[\"Academic Articles\"], width=bar_width, label=\"Academic Articles\", color='green')\n",
    "plt.bar(x_indexes + 1.5*bar_width, df[\"Dissertations\"], width=bar_width, label=\"Dissertations\", color='purple')\n",
    "\n",
    "plt.xlabel(\"Publication Year\")\n",
    "plt.ylabel(\"Number of Publications\")\n",
    "plt.title(\"Trends in Domestic Sodium Reduction Publications\")\n",
    "plt.xticks(ticks=x_indexes, labels=df[\"Publication Year\"], rotation=45)\n",
    "plt.legend()\n",
    "\n",
    "# 그래프 표시\n",
    "plt.tight_layout()\n",
    "plt.show()"
   ]
  }
 ],
 "metadata": {
  "language_info": {
   "name": "python"
  }
 },
 "nbformat": 4,
 "nbformat_minor": 2
}
